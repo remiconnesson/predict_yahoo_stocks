{
 "cells": [
  {
   "cell_type": "code",
   "execution_count": 1,
   "metadata": {},
   "outputs": [],
   "source": [
    "import pandas as pd\n",
    "import datetime\n",
    "from pandas import Series, DataFrame"
   ]
  },
  {
   "cell_type": "code",
   "execution_count": 4,
   "metadata": {},
   "outputs": [
    {
     "data": {
      "text/html": [
       "<div>\n",
       "<style scoped>\n",
       "    .dataframe tbody tr th:only-of-type {\n",
       "        vertical-align: middle;\n",
       "    }\n",
       "\n",
       "    .dataframe tbody tr th {\n",
       "        vertical-align: top;\n",
       "    }\n",
       "\n",
       "    .dataframe thead th {\n",
       "        text-align: right;\n",
       "    }\n",
       "</style>\n",
       "<table border=\"1\" class=\"dataframe\">\n",
       "  <thead>\n",
       "    <tr style=\"text-align: right;\">\n",
       "      <th></th>\n",
       "      <th>Date</th>\n",
       "      <th>Open</th>\n",
       "      <th>High</th>\n",
       "      <th>Low</th>\n",
       "      <th>Close</th>\n",
       "      <th>Adj Close</th>\n",
       "      <th>Volume</th>\n",
       "    </tr>\n",
       "  </thead>\n",
       "  <tbody>\n",
       "    <tr>\n",
       "      <th>0</th>\n",
       "      <td>2018-09-07</td>\n",
       "      <td>260.100006</td>\n",
       "      <td>268.350006</td>\n",
       "      <td>252.250000</td>\n",
       "      <td>263.239990</td>\n",
       "      <td>263.239990</td>\n",
       "      <td>22491900</td>\n",
       "    </tr>\n",
       "    <tr>\n",
       "      <th>1</th>\n",
       "      <td>2018-09-10</td>\n",
       "      <td>273.260010</td>\n",
       "      <td>286.029999</td>\n",
       "      <td>271.000000</td>\n",
       "      <td>285.500000</td>\n",
       "      <td>285.500000</td>\n",
       "      <td>14283500</td>\n",
       "    </tr>\n",
       "    <tr>\n",
       "      <th>2</th>\n",
       "      <td>2018-09-11</td>\n",
       "      <td>279.470001</td>\n",
       "      <td>282.000000</td>\n",
       "      <td>273.549988</td>\n",
       "      <td>279.440002</td>\n",
       "      <td>279.440002</td>\n",
       "      <td>9170000</td>\n",
       "    </tr>\n",
       "    <tr>\n",
       "      <th>3</th>\n",
       "      <td>2018-09-12</td>\n",
       "      <td>281.440002</td>\n",
       "      <td>292.500000</td>\n",
       "      <td>278.649994</td>\n",
       "      <td>290.540009</td>\n",
       "      <td>290.540009</td>\n",
       "      <td>10015400</td>\n",
       "    </tr>\n",
       "    <tr>\n",
       "      <th>4</th>\n",
       "      <td>2018-09-13</td>\n",
       "      <td>288.019989</td>\n",
       "      <td>295.000000</td>\n",
       "      <td>285.179993</td>\n",
       "      <td>289.459991</td>\n",
       "      <td>289.459991</td>\n",
       "      <td>6340300</td>\n",
       "    </tr>\n",
       "  </tbody>\n",
       "</table>\n",
       "</div>"
      ],
      "text/plain": [
       "         Date        Open        High         Low       Close   Adj Close  \\\n",
       "0  2018-09-07  260.100006  268.350006  252.250000  263.239990  263.239990   \n",
       "1  2018-09-10  273.260010  286.029999  271.000000  285.500000  285.500000   \n",
       "2  2018-09-11  279.470001  282.000000  273.549988  279.440002  279.440002   \n",
       "3  2018-09-12  281.440002  292.500000  278.649994  290.540009  290.540009   \n",
       "4  2018-09-13  288.019989  295.000000  285.179993  289.459991  289.459991   \n",
       "\n",
       "     Volume  \n",
       "0  22491900  \n",
       "1  14283500  \n",
       "2   9170000  \n",
       "3  10015400  \n",
       "4   6340300  "
      ]
     },
     "execution_count": 4,
     "metadata": {},
     "output_type": "execute_result"
    }
   ],
   "source": [
    "stock_df = pd.read_csv('data/TSLA.csv')\n",
    "\n",
    "stock_df.head()"
   ]
  },
  {
   "cell_type": "code",
   "execution_count": 5,
   "metadata": {},
   "outputs": [
    {
     "data": {
      "text/html": [
       "<div>\n",
       "<style scoped>\n",
       "    .dataframe tbody tr th:only-of-type {\n",
       "        vertical-align: middle;\n",
       "    }\n",
       "\n",
       "    .dataframe tbody tr th {\n",
       "        vertical-align: top;\n",
       "    }\n",
       "\n",
       "    .dataframe thead th {\n",
       "        text-align: right;\n",
       "    }\n",
       "</style>\n",
       "<table border=\"1\" class=\"dataframe\">\n",
       "  <thead>\n",
       "    <tr style=\"text-align: right;\">\n",
       "      <th></th>\n",
       "      <th>Date</th>\n",
       "      <th>Open</th>\n",
       "      <th>High</th>\n",
       "      <th>Low</th>\n",
       "      <th>Close</th>\n",
       "      <th>Adj Close</th>\n",
       "      <th>Volume</th>\n",
       "    </tr>\n",
       "  </thead>\n",
       "  <tbody>\n",
       "    <tr>\n",
       "      <th>246</th>\n",
       "      <td>2019-08-30</td>\n",
       "      <td>229.149994</td>\n",
       "      <td>232.440002</td>\n",
       "      <td>224.210007</td>\n",
       "      <td>225.610001</td>\n",
       "      <td>225.610001</td>\n",
       "      <td>9320600</td>\n",
       "    </tr>\n",
       "    <tr>\n",
       "      <th>247</th>\n",
       "      <td>2019-09-03</td>\n",
       "      <td>224.080002</td>\n",
       "      <td>228.949997</td>\n",
       "      <td>223.160004</td>\n",
       "      <td>225.009995</td>\n",
       "      <td>225.009995</td>\n",
       "      <td>5354100</td>\n",
       "    </tr>\n",
       "    <tr>\n",
       "      <th>248</th>\n",
       "      <td>2019-09-04</td>\n",
       "      <td>226.889999</td>\n",
       "      <td>228.460007</td>\n",
       "      <td>219.210007</td>\n",
       "      <td>220.679993</td>\n",
       "      <td>220.679993</td>\n",
       "      <td>5761000</td>\n",
       "    </tr>\n",
       "    <tr>\n",
       "      <th>249</th>\n",
       "      <td>2019-09-05</td>\n",
       "      <td>222.500000</td>\n",
       "      <td>229.800003</td>\n",
       "      <td>220.850006</td>\n",
       "      <td>229.580002</td>\n",
       "      <td>229.580002</td>\n",
       "      <td>7395300</td>\n",
       "    </tr>\n",
       "    <tr>\n",
       "      <th>250</th>\n",
       "      <td>2019-09-06</td>\n",
       "      <td>227.199997</td>\n",
       "      <td>229.639999</td>\n",
       "      <td>225.169998</td>\n",
       "      <td>227.449997</td>\n",
       "      <td>227.449997</td>\n",
       "      <td>4182200</td>\n",
       "    </tr>\n",
       "  </tbody>\n",
       "</table>\n",
       "</div>"
      ],
      "text/plain": [
       "           Date        Open        High         Low       Close   Adj Close  \\\n",
       "246  2019-08-30  229.149994  232.440002  224.210007  225.610001  225.610001   \n",
       "247  2019-09-03  224.080002  228.949997  223.160004  225.009995  225.009995   \n",
       "248  2019-09-04  226.889999  228.460007  219.210007  220.679993  220.679993   \n",
       "249  2019-09-05  222.500000  229.800003  220.850006  229.580002  229.580002   \n",
       "250  2019-09-06  227.199997  229.639999  225.169998  227.449997  227.449997   \n",
       "\n",
       "      Volume  \n",
       "246  9320600  \n",
       "247  5354100  \n",
       "248  5761000  \n",
       "249  7395300  \n",
       "250  4182200  "
      ]
     },
     "execution_count": 5,
     "metadata": {},
     "output_type": "execute_result"
    }
   ],
   "source": [
    "stock_df.tail()"
   ]
  },
  {
   "cell_type": "markdown",
   "metadata": {},
   "source": [
    "## Rolling Mean (Moving Average) — to determine trend\n",
    "\n",
    "Rolling mean/Moving Average (MA) smooths out price data by creating a constantly updated average price. \n",
    "\n",
    "This is useful to cut down “noise” in our price chart. \n",
    "\n",
    "Furthermore, this Moving Average could act as “Resistance” meaning from the downtrend and uptrend of stocks you could expect it will follow the trend and less likely to deviate outside its resistance point."
   ]
  },
  {
   "cell_type": "code",
   "execution_count": 16,
   "metadata": {},
   "outputs": [],
   "source": [
    "# This will calculate the Moving Average for the last 25 windows (25 days) of stocks closing price...\n",
    "# and take the average for each of the window’s moving average.\n",
    "\n",
    "close_px = stock_df['Adj Close']\n",
    "mavg = close_px.rolling(window=25).mean()"
   ]
  },
  {
   "cell_type": "markdown",
   "metadata": {},
   "source": [
    "For better understanding, let’s plot it out with Matplotlib. We will overlay the Moving Average with our Stocks Price Chart."
   ]
  },
  {
   "cell_type": "code",
   "execution_count": 17,
   "metadata": {},
   "outputs": [
    {
     "data": {
      "text/plain": [
       "<matplotlib.legend.Legend at 0x1d77a947080>"
      ]
     },
     "execution_count": 17,
     "metadata": {},
     "output_type": "execute_result"
    },
    {
     "data": {
      "image/png": "[encoded data removed]",
      "text/plain": [
       "<Figure size 576x504 with 1 Axes>"
      ]
     },
     "metadata": {},
     "output_type": "display_data"
    }
   ],
   "source": [
    "%matplotlib inline\n",
    "import matplotlib.pyplot as plt\n",
    "from matplotlib import style\n",
    "\n",
    "# Adjusting the size of matplotlib\n",
    "import matplotlib as mpl\n",
    "mpl.rc('figure', figsize=(8, 7))\n",
    "mpl.__version__\n",
    "\n",
    "# Adjusting the style of matplotlib\n",
    "style.use('ggplot')\n",
    "\n",
    "close_px.plot(label='TSLA')\n",
    "mavg.plot(label='mavg')\n",
    "plt.legend()"
   ]
  },
  {
   "attachments": {
    "image.png": {
     "image/png": "[encoded data removed]"
    }
   },
   "cell_type": "markdown",
   "metadata": {},
   "source": [
    "## Return Deviation — to determine risk and return\n",
    "\n",
    ">Expected Return measures the mean, or expected value, of the probability distribution of investment returns. The expected return of a portfolio is calculated by multiplying the weight of each asset by its expected return and adding the values for each investment — Investopedia.\n",
    "\n",
    "![image.png](attachment:image.png)\n"
   ]
  },
  {
   "cell_type": "code",
   "execution_count": 18,
   "metadata": {},
   "outputs": [
    {
     "data": {
      "text/plain": [
       "<matplotlib.axes._subplots.AxesSubplot at 0x1d77a9ce390>"
      ]
     },
     "execution_count": 18,
     "metadata": {},
     "output_type": "execute_result"
    },
    {
     "data": {
      "image/png": "[encoded data removed]",
      "text/plain": [
       "<Figure size 576x504 with 1 Axes>"
      ]
     },
     "metadata": {},
     "output_type": "display_data"
    }
   ],
   "source": [
    "rets = close_px / close_px.shift(1) - 1\n",
    "rets.plot(label='return')"
   ]
  },
  {
   "cell_type": "markdown",
   "metadata": {},
   "source": [
    "# Predicting Stocks Price\n",
    "\n",
    "We will use these three machine learning models to predict our stocks: __Simple Linear Analysis__, __Quadratic Discriminant Analysis (QDA)__, and __K Nearest Neighbor (KNN)__.\n",
    "\n",
    "## Feature Engineering\n",
    "\n",
    "But first, let us engineer some features: __High Low Percentage__ and __Percentage Change__."
   ]
  },
  {
   "cell_type": "code",
   "execution_count": 24,
   "metadata": {},
   "outputs": [
    {
     "data": {
      "text/html": [
       "<div>\n",
       "<style scoped>\n",
       "    .dataframe tbody tr th:only-of-type {\n",
       "        vertical-align: middle;\n",
       "    }\n",
       "\n",
       "    .dataframe tbody tr th {\n",
       "        vertical-align: top;\n",
       "    }\n",
       "\n",
       "    .dataframe thead th {\n",
       "        text-align: right;\n",
       "    }\n",
       "</style>\n",
       "<table border=\"1\" class=\"dataframe\">\n",
       "  <thead>\n",
       "    <tr style=\"text-align: right;\">\n",
       "      <th></th>\n",
       "      <th>Adj Close</th>\n",
       "      <th>Volume</th>\n",
       "      <th>HL_PCT</th>\n",
       "      <th>PCT_change</th>\n",
       "    </tr>\n",
       "  </thead>\n",
       "  <tbody>\n",
       "    <tr>\n",
       "      <th>0</th>\n",
       "      <td>263.239990</td>\n",
       "      <td>22491900</td>\n",
       "      <td>6.116094</td>\n",
       "      <td>1.207222</td>\n",
       "    </tr>\n",
       "    <tr>\n",
       "      <th>1</th>\n",
       "      <td>285.500000</td>\n",
       "      <td>14283500</td>\n",
       "      <td>5.264448</td>\n",
       "      <td>4.479247</td>\n",
       "    </tr>\n",
       "    <tr>\n",
       "      <th>2</th>\n",
       "      <td>279.440002</td>\n",
       "      <td>9170000</td>\n",
       "      <td>3.023909</td>\n",
       "      <td>-0.010734</td>\n",
       "    </tr>\n",
       "    <tr>\n",
       "      <th>3</th>\n",
       "      <td>290.540009</td>\n",
       "      <td>10015400</td>\n",
       "      <td>4.766988</td>\n",
       "      <td>3.233374</td>\n",
       "    </tr>\n",
       "    <tr>\n",
       "      <th>4</th>\n",
       "      <td>289.459991</td>\n",
       "      <td>6340300</td>\n",
       "      <td>3.392527</td>\n",
       "      <td>0.499966</td>\n",
       "    </tr>\n",
       "  </tbody>\n",
       "</table>\n",
       "</div>"
      ],
      "text/plain": [
       "    Adj Close    Volume    HL_PCT  PCT_change\n",
       "0  263.239990  22491900  6.116094    1.207222\n",
       "1  285.500000  14283500  5.264448    4.479247\n",
       "2  279.440002   9170000  3.023909   -0.010734\n",
       "3  290.540009  10015400  4.766988    3.233374\n",
       "4  289.459991   6340300  3.392527    0.499966"
      ]
     },
     "execution_count": 24,
     "metadata": {},
     "output_type": "execute_result"
    }
   ],
   "source": [
    "dfreg = stock_df.loc[:,['Adj Close','Volume']]\n",
    "dfreg['HL_PCT'] = (stock_df['High'] - stock_df['Low']) / stock_df['Close'] * 100.0\n",
    "dfreg['PCT_change'] = (stock_df['Close'] - stock_df['Open']) / stock_df['Open'] * 100.0\n",
    "\n",
    "dfreg.head()"
   ]
  },
  {
   "cell_type": "code",
   "execution_count": 27,
   "metadata": {},
   "outputs": [
    {
     "data": {
      "text/html": [
       "<div>\n",
       "<style scoped>\n",
       "    .dataframe tbody tr th:only-of-type {\n",
       "        vertical-align: middle;\n",
       "    }\n",
       "\n",
       "    .dataframe tbody tr th {\n",
       "        vertical-align: top;\n",
       "    }\n",
       "\n",
       "    .dataframe thead th {\n",
       "        text-align: right;\n",
       "    }\n",
       "</style>\n",
       "<table border=\"1\" class=\"dataframe\">\n",
       "  <thead>\n",
       "    <tr style=\"text-align: right;\">\n",
       "      <th></th>\n",
       "      <th>Adj Close</th>\n",
       "      <th>Volume</th>\n",
       "      <th>HL_PCT</th>\n",
       "      <th>PCT_change</th>\n",
       "    </tr>\n",
       "  </thead>\n",
       "  <tbody>\n",
       "    <tr>\n",
       "      <th>246</th>\n",
       "      <td>225.610001</td>\n",
       "      <td>9320600</td>\n",
       "      <td>3.647886</td>\n",
       "      <td>-1.544837</td>\n",
       "    </tr>\n",
       "    <tr>\n",
       "      <th>247</th>\n",
       "      <td>225.009995</td>\n",
       "      <td>5354100</td>\n",
       "      <td>2.573216</td>\n",
       "      <td>0.415027</td>\n",
       "    </tr>\n",
       "    <tr>\n",
       "      <th>248</th>\n",
       "      <td>220.679993</td>\n",
       "      <td>5761000</td>\n",
       "      <td>4.191590</td>\n",
       "      <td>-2.737012</td>\n",
       "    </tr>\n",
       "    <tr>\n",
       "      <th>249</th>\n",
       "      <td>229.580002</td>\n",
       "      <td>7395300</td>\n",
       "      <td>3.898422</td>\n",
       "      <td>3.182023</td>\n",
       "    </tr>\n",
       "    <tr>\n",
       "      <th>250</th>\n",
       "      <td>227.449997</td>\n",
       "      <td>4182200</td>\n",
       "      <td>1.965268</td>\n",
       "      <td>0.110035</td>\n",
       "    </tr>\n",
       "  </tbody>\n",
       "</table>\n",
       "</div>"
      ],
      "text/plain": [
       "      Adj Close   Volume    HL_PCT  PCT_change\n",
       "246  225.610001  9320600  3.647886   -1.544837\n",
       "247  225.009995  5354100  2.573216    0.415027\n",
       "248  220.679993  5761000  4.191590   -2.737012\n",
       "249  229.580002  7395300  3.898422    3.182023\n",
       "250  227.449997  4182200  1.965268    0.110035"
      ]
     },
     "execution_count": 27,
     "metadata": {},
     "output_type": "execute_result"
    }
   ],
   "source": [
    "dfreg.tail()"
   ]
  },
  {
   "cell_type": "markdown",
   "metadata": {},
   "source": [
    "## Pre-processing & Cross Validation\n",
    "\n",
    "We will clean up and process the data using the following steps before putting them into the prediction models:\n",
    "\n",
    "1. Drop missing value\n",
    "1. Separating the label here, we want to predict the `AdjClose`\n",
    "1. Scale the X so that everyone can have the same distribution for linear regression\n",
    "1. Finally We want to find Data Series of late X and early X (train) for model generation and evaluation\n",
    "1. Separate label and identify it as y\n",
    "1. Separation of training and testing of model by cross validation train test split\n"
   ]
  },
  {
   "cell_type": "code",
   "execution_count": 73,
   "metadata": {},
   "outputs": [],
   "source": [
    "import math\n",
    "import numpy as np\n",
    "\n",
    "from sklearn import preprocessing\n",
    "\n",
    "# Drop missing value\n",
    "dfreg.fillna(value=-99999, inplace=True)\n",
    "# We want to separate 1 percent of the data to forecast\n",
    "forecast_out = int(math.ceil(0.1 * len(dfreg)))\n",
    "# Separating the label here, we want to predict the AdjClose\n",
    "forecast_col = 'Adj Close'\n",
    "dfreg['label'] = dfreg[forecast_col].shift(-1)\n",
    "X = np.array(dfreg.drop(['label'], 1))\n",
    "# Scale the X so that everyone can have the same distribution for linear regression\n",
    "X = preprocessing.scale(X)\n",
    "# Finally We want to find Data Series of late X and early X (train) for model generation and evaluation\n",
    "X_test  = X[-forecast_out:-1]\n",
    "X_train = X[:-forecast_out]\n",
    "# Separate label and identify it as y\n",
    "y = np.array(dfreg['label'])\n",
    "y_test  = y[-forecast_out:-1]\n",
    "y_train = y[:-forecast_out]"
   ]
  },
  {
   "cell_type": "code",
   "execution_count": 79,
   "metadata": {},
   "outputs": [],
   "source": [
    "from sklearn.linear_model import LinearRegression\n",
    "from sklearn.neighbors import KNeighborsRegressor\n",
    "\n",
    "from sklearn.linear_model import Ridge\n",
    "from sklearn.preprocessing import PolynomialFeatures\n",
    "from sklearn.pipeline import make_pipeline"
   ]
  },
  {
   "cell_type": "code",
   "execution_count": 80,
   "metadata": {},
   "outputs": [
    {
     "data": {
      "text/plain": [
       "LinearRegression(copy_X=True, fit_intercept=True, n_jobs=-1, normalize=False)"
      ]
     },
     "execution_count": 80,
     "metadata": {},
     "output_type": "execute_result"
    }
   ],
   "source": [
    "# Linear regression\n",
    "clfreg = LinearRegression(n_jobs=-1)\n",
    "clfreg.fit(X_train, y_train)"
   ]
  },
  {
   "cell_type": "code",
   "execution_count": 81,
   "metadata": {},
   "outputs": [
    {
     "data": {
      "text/plain": [
       "Pipeline(memory=None,\n",
       "         steps=[('polynomialfeatures',\n",
       "                 PolynomialFeatures(degree=2, include_bias=True,\n",
       "                                    interaction_only=False, order='C')),\n",
       "                ('ridge',\n",
       "                 Ridge(alpha=1.0, copy_X=True, fit_intercept=True,\n",
       "                       max_iter=None, normalize=False, random_state=None,\n",
       "                       solver='auto', tol=0.001))],\n",
       "         verbose=False)"
      ]
     },
     "execution_count": 81,
     "metadata": {},
     "output_type": "execute_result"
    }
   ],
   "source": [
    "# Quadratic Regression 2\n",
    "clfpoly2 = make_pipeline(PolynomialFeatures(2), Ridge())\n",
    "clfpoly2.fit(X_train, y_train)"
   ]
  },
  {
   "cell_type": "code",
   "execution_count": 82,
   "metadata": {},
   "outputs": [
    {
     "data": {
      "text/plain": [
       "Pipeline(memory=None,\n",
       "         steps=[('polynomialfeatures',\n",
       "                 PolynomialFeatures(degree=3, include_bias=True,\n",
       "                                    interaction_only=False, order='C')),\n",
       "                ('ridge',\n",
       "                 Ridge(alpha=1.0, copy_X=True, fit_intercept=True,\n",
       "                       max_iter=None, normalize=False, random_state=None,\n",
       "                       solver='auto', tol=0.001))],\n",
       "         verbose=False)"
      ]
     },
     "execution_count": 82,
     "metadata": {},
     "output_type": "execute_result"
    }
   ],
   "source": [
    "# Quadratic Regression 3\n",
    "clfpoly3 = make_pipeline(PolynomialFeatures(3), Ridge())\n",
    "clfpoly3.fit(X_train, y_train)"
   ]
  },
  {
   "cell_type": "code",
   "execution_count": 83,
   "metadata": {},
   "outputs": [
    {
     "data": {
      "text/plain": [
       "KNeighborsRegressor(algorithm='auto', leaf_size=30, metric='minkowski',\n",
       "                    metric_params=None, n_jobs=None, n_neighbors=2, p=2,\n",
       "                    weights='uniform')"
      ]
     },
     "execution_count": 83,
     "metadata": {},
     "output_type": "execute_result"
    }
   ],
   "source": [
    "# KNN Regression\n",
    "clfknn = KNeighborsRegressor(n_neighbors=2)\n",
    "clfknn.fit(X_train, y_train)"
   ]
  },
  {
   "cell_type": "code",
   "execution_count": 84,
   "metadata": {},
   "outputs": [
    {
     "data": {
      "text/plain": [
       "array([234.339996, 228.320007, 230.75    , 233.419998, 238.300003,\n",
       "       235.009995, 229.009995, 235.      , 219.619995, 215.639999,\n",
       "       219.940002, 226.830002, 225.860001, 220.830002, 222.149994,\n",
       "       211.399994, 215.      , 214.080002, 215.589996, 221.710007,\n",
       "       225.610001, 225.009995, 220.679993, 229.580002, 227.449997])"
      ]
     },
     "execution_count": 84,
     "metadata": {},
     "output_type": "execute_result"
    }
   ],
   "source": [
    "y_test"
   ]
  },
  {
   "cell_type": "code",
   "execution_count": 87,
   "metadata": {},
   "outputs": [
    {
     "name": "stdout",
     "output_type": "stream",
     "text": [
      "The linear regression confidence is  0.3973358821351975\n",
      "The quadratic regression 2 confidence is  -0.5601188369433121\n",
      "The quadratic regression 3 confidence is  -0.5840310978650702\n",
      "The knn regression confidence is  -1.4414183069256574\n"
     ]
    }
   ],
   "source": [
    "confidencereg = clfreg.score(X_test, y_test)\n",
    "confidencepoly2 = clfpoly2.score(X_test,y_test)\n",
    "confidencepoly3 = clfpoly3.score(X_test,y_test)\n",
    "confidenceknn = clfknn.score(X_test, y_test)\n",
    "# results\n",
    "print('The linear regression confidence is ',  confidencereg)\n",
    "print('The quadratic regression 2 confidence is ', confidencepoly2 )\n",
    "print('The quadratic regression 3 confidence is ', confidencepoly3)\n",
    "print('The knn regression confidence is ', confidenceknn)"
   ]
  },
  {
   "cell_type": "markdown",
   "metadata": {},
   "source": [
    "Three models trained:\n",
    "1. Linear Regression\n",
    "2. QDA\n",
    "3. KNN"
   ]
  }
 ],
 "metadata": {
  "kernelspec": {
   "display_name": "sklearn",
   "language": "python",
   "name": "sklearn"
  },
  "language_info": {
   "codemirror_mode": {
    "name": "ipython",
    "version": 3
   },
   "file_extension": ".py",
   "mimetype": "text/x-python",
   "name": "python",
   "nbconvert_exporter": "python",
   "pygments_lexer": "ipython3",
   "version": "3.7.3"
  }
 },
 "nbformat": 4,
 "nbformat_minor": 2
}
